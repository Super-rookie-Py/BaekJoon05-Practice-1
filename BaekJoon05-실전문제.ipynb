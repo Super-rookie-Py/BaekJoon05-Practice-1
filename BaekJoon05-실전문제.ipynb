{
 "cells": [
  {
   "cell_type": "markdown",
   "metadata": {},
   "source": [
    "# 강의노트\n",
    "### 백준 문제 5단계- 실전문제\n",
    "#### 2020/04/17 keonwoo park"
   ]
  },
  {
   "cell_type": "markdown",
   "metadata": {},
   "source": [
    "#### 상현이가 가르치는 아이폰 앱 개발 수업의 수강생은 원섭, 세희, 상근, 숭, 강수이다.\n",
    "\n",
    "#### 어제 이 수업의 기말고사가 있었고, 상현이는 지금 학생들의 기말고사 시험지를 채점하고 있다. 기말고사 점수가 40점 이상인 학생들은 그 점수 그대로 자신의 성적이 된다. 하지만, 40점 미만인 학생들은 보충학습을 듣는 조건을 수락하면 40점을 받게 된다. 보충학습은 거부할 수 없기 때문에, 40점 미만인 학생들은 항상 40점을 받게 된다.\n",
    "\n",
    "#### 학생 5명의 점수가 주어졌을 때, 평균 점수를 구하는 프로그램을 작성하시오."
   ]
  },
  {
   "cell_type": "code",
   "execution_count": 2,
   "metadata": {},
   "outputs": [
    {
     "name": "stdout",
     "output_type": "stream",
     "text": [
      "10\n",
      "65\n",
      "100\n",
      "30\n",
      "95\n",
      "68\n"
     ]
    }
   ],
   "source": [
    "Sum = 0\n",
    "\n",
    "for i in range(5):\n",
    "    a = int(input())\n",
    "    if a < 40:\n",
    "        a = 40\n",
    "        Sum = Sum + a\n",
    "    else:\n",
    "        Sum = Sum + a\n",
    "print(int(Sum/5))\n",
    "        "
   ]
  },
  {
   "cell_type": "markdown",
   "metadata": {},
   "source": [
    "#### 상근날드에서 가장 잘 팔리는 메뉴는 세트 메뉴이다. 주문할 때, 자신이 원하는 햄버거와 음료를 하나씩 골라, 세트로 구매하면, 가격의 합계에서 50원을 뺀 가격이 세트 메뉴의 가격이 된다.\n",
    "\n",
    "#### 햄버거는 총 3종류 상덕버거, 중덕버거, 하덕버거가 있고, 음료는 콜라와 사이다 두 종류가 있다.\n",
    "\n",
    "#### 햄버거와 음료의 가격이 주어졌을 때, 가장 싼 세트 메뉴의 가격을 출력하는 프로그램을 작성하시오."
   ]
  },
  {
   "cell_type": "code",
   "execution_count": 5,
   "metadata": {},
   "outputs": [
    {
     "name": "stdout",
     "output_type": "stream",
     "text": [
      "1999\n",
      "1999\n",
      "100\n",
      "189\n",
      "100\n",
      "150\n"
     ]
    }
   ],
   "source": [
    "Min_1 = 2001\n",
    "Min_2 = 2001\n",
    "\n",
    "for i in range(3):\n",
    "    a = int(input())\n",
    "    if Min_1 > a:\n",
    "        Min_1 = a\n",
    "for j in range(2):\n",
    "    b = int(input())\n",
    "    if Min_2 > b:\n",
    "        Min_2 = b\n",
    "print( Min_1 + Min_2 - 50)\n",
    "        "
   ]
  },
  {
   "cell_type": "markdown",
   "metadata": {},
   "source": [
    "#### 세 정수 A, B, C가 주어진다. 이때, 두 번째로 큰 정수를 출력하는 프로그램을 작성하시오. "
   ]
  },
  {
   "cell_type": "code",
   "execution_count": 38,
   "metadata": {},
   "outputs": [
    {
     "name": "stdout",
     "output_type": "stream",
     "text": [
      "20 30 10\n",
      "20\n"
     ]
    }
   ],
   "source": [
    "a = list(map(int, input().split()))\n",
    "# 값을 리스트에 넣고, 세 값 중 큰 값을 찾아서 리스트에서 지운 후 가장 큰 값을 찾는다.\n",
    "data_max = 0\n",
    "\n",
    "for i in a:\n",
    "    if data_max < i:\n",
    "        data_max = i\n",
    "        \n",
    "a.remove(data_max)\n",
    "data_max = 0\n",
    "\n",
    "for i in a:\n",
    "    if data_max < i:\n",
    "        data_max = i\n",
    "print(data_max)\n"
   ]
  },
  {
   "cell_type": "code",
   "execution_count": 41,
   "metadata": {},
   "outputs": [
    {
     "name": "stdout",
     "output_type": "stream",
     "text": [
      "20 30 1\n",
      "20\n"
     ]
    }
   ],
   "source": [
    "### 파이썬에서 정렬 후 리스트 두번째값을 뽑는다.\n",
    "# 입력값의 수가 3개로 일정하면 정렬해서 두번째 값이 두번째로 큰 값임을 안다.\n",
    "\n",
    "b = list(map(int, input().split()))\n",
    "\n",
    "b = sorted(b)\n",
    "print(b[1])"
   ]
  },
  {
   "cell_type": "markdown",
   "metadata": {},
   "source": [
    "#### 첫째 줄부터 2×N-1번째 줄까지 차례대로 별을 출력한다."
   ]
  },
  {
   "cell_type": "code",
   "execution_count": 90,
   "metadata": {},
   "outputs": [
    {
     "name": "stdout",
     "output_type": "stream",
     "text": [
      "5\n",
      "*\n",
      "**\n",
      "***\n",
      "****\n",
      "*****\n",
      "****\n",
      "***\n",
      "**\n",
      "*\n"
     ]
    }
   ],
   "source": [
    "a = int(input())\n",
    "\n",
    "for i in range(1, 2*a):\n",
    "    if i > a:\n",
    "        print(\"*\"*(2*a-i))\n",
    "    else:\n",
    "        print(\"*\"*(i))\n",
    "        \n",
    "        "
   ]
  },
  {
   "cell_type": "markdown",
   "metadata": {},
   "source": [
    "#### 별찍기 2 "
   ]
  },
  {
   "cell_type": "code",
   "execution_count": 202,
   "metadata": {},
   "outputs": [
    {
     "name": "stdout",
     "output_type": "stream",
     "text": [
      "3\n",
      "*****\n",
      " ***\n",
      "  *\n",
      " ***\n",
      "*****\n"
     ]
    }
   ],
   "source": [
    "a = int(input())\n",
    "\n",
    "for i in range(0, 2*a-1):\n",
    "    for j in range(0, 2*a-1):\n",
    "        if i < a:\n",
    "            if j < i:\n",
    "                print(\" \",end='')\n",
    "            else:\n",
    "                print(\"*\"*(2*(a-i)-1),end='')\n",
    "                break\n",
    "        else:\n",
    "            if j < (i-2*((i-a)))-2 :\n",
    "                print(\" \",end='')\n",
    "            else:\n",
    "                print(\"*\"*(2*(i-a+1)+1),end='')\n",
    "                break\n",
    "    print()\n",
    "    "
   ]
  },
  {
   "cell_type": "markdown",
   "metadata": {},
   "source": [
    "#### 별찍기 3"
   ]
  },
  {
   "cell_type": "code",
   "execution_count": 213,
   "metadata": {},
   "outputs": [
    {
     "name": "stdout",
     "output_type": "stream",
     "text": [
      "4\n",
      "* * \n",
      " * *\n",
      "* * \n",
      " * *\n",
      "* * \n",
      " * *\n",
      "* * \n",
      " * *\n"
     ]
    }
   ],
   "source": [
    "a = int(input())\n",
    "\n",
    "for i in range(0, 2*a):\n",
    "    for j in range(0, a):\n",
    "        if i%2==0:\n",
    "            if j%2==0:\n",
    "                print(\"*\",end=\"\")\n",
    "            else:\n",
    "                print(' ',end=\"\")\n",
    "        else:\n",
    "            if j%2==0:\n",
    "                print(\" \",end=\"\")\n",
    "            else:\n",
    "                print(\"*\", end=\"\")\n",
    "    print()"
   ]
  }
 ],
 "metadata": {
  "kernelspec": {
   "display_name": "Python 3",
   "language": "python",
   "name": "python3"
  },
  "language_info": {
   "codemirror_mode": {
    "name": "ipython",
    "version": 3
   },
   "file_extension": ".py",
   "mimetype": "text/x-python",
   "name": "python",
   "nbconvert_exporter": "python",
   "pygments_lexer": "ipython3",
   "version": "3.6.2"
  }
 },
 "nbformat": 4,
 "nbformat_minor": 4
}
